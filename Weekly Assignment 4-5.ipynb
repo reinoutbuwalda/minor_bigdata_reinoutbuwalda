{
 "cells": [
  {
   "cell_type": "markdown",
   "id": "238708db",
   "metadata": {},
   "source": [
    "## Introduction"
   ]
  },
  {
   "cell_type": "markdown",
   "id": "d52042d4",
   "metadata": {},
   "source": [
    "Onderstraand vindt u een dataset gericht op de 'attrition' van werknemers. Met attrition wordt de slijtage van werknemers bedoeld. Hiermee wordt bedoeld dat het aantal werknemers afneemt en niet wordt vervangen. Er zijn veel vairabelen die hieraan bijdragen. Dit kan te maken hebben met slechte omstandigheden, geen groeimogelijkheden, ziekte en inkomen. \n",
    "\n",
    "Voor deze opdracht worden de volgende variabelen meegenomen om te voorspellen of iemand het bedrijf verlaat en dus 'yes' scoort op 'attrition':\n",
    "- Age\n",
    "- Gender\n",
    "- JobSatisfaction\n",
    "- MonthlyIncome\n",
    "- EnvironmentSatisfaction\n",
    "- TotalWorkingYears\n",
    "- YearsSinceLastPromotion\n",
    "- RelationshipSatisfaction\n",
    "\n",
    "Bovenstaande variabelen worden meegenomen in het onderzoek aangezien wordt verwacht dat deze variabelen van grote invloed zijn op 'attrition'. "
   ]
  },
  {
   "cell_type": "markdown",
   "id": "c903049c",
   "metadata": {},
   "source": [
    "## Importeren libraries"
   ]
  },
  {
   "cell_type": "code",
   "execution_count": 1,
   "id": "5c45226e",
   "metadata": {},
   "outputs": [],
   "source": [
    "import seaborn as sns\n",
    "import pandas as pd\n",
    "import matplotlib.pyplot as plt\n",
    "import math\n",
    "from sklearn.linear_model import LinearRegression\n",
    "from sklearn.model_selection import train_test_split\n",
    "from sklearn.metrics import mean_squared_error\n",
    "from sklearn.metrics import r2_score"
   ]
  },
  {
   "cell_type": "markdown",
   "id": "4e2a53d1",
   "metadata": {},
   "source": [
    "## Importeren van dataset"
   ]
  },
  {
   "cell_type": "code",
   "execution_count": 2,
   "id": "c14919b3",
   "metadata": {},
   "outputs": [
    {
     "data": {
      "text/html": [
       "<div>\n",
       "<style scoped>\n",
       "    .dataframe tbody tr th:only-of-type {\n",
       "        vertical-align: middle;\n",
       "    }\n",
       "\n",
       "    .dataframe tbody tr th {\n",
       "        vertical-align: top;\n",
       "    }\n",
       "\n",
       "    .dataframe thead th {\n",
       "        text-align: right;\n",
       "    }\n",
       "</style>\n",
       "<table border=\"1\" class=\"dataframe\">\n",
       "  <thead>\n",
       "    <tr style=\"text-align: right;\">\n",
       "      <th></th>\n",
       "      <th>Age</th>\n",
       "      <th>Attrition</th>\n",
       "      <th>BusinessTravel</th>\n",
       "      <th>DailyRate</th>\n",
       "      <th>Department</th>\n",
       "      <th>DistanceFromHome</th>\n",
       "      <th>Education</th>\n",
       "      <th>EducationField</th>\n",
       "      <th>EmployeeCount</th>\n",
       "      <th>EmployeeNumber</th>\n",
       "      <th>...</th>\n",
       "      <th>RelationshipSatisfaction</th>\n",
       "      <th>StandardHours</th>\n",
       "      <th>StockOptionLevel</th>\n",
       "      <th>TotalWorkingYears</th>\n",
       "      <th>TrainingTimesLastYear</th>\n",
       "      <th>WorkLifeBalance</th>\n",
       "      <th>YearsAtCompany</th>\n",
       "      <th>YearsInCurrentRole</th>\n",
       "      <th>YearsSinceLastPromotion</th>\n",
       "      <th>YearsWithCurrManager</th>\n",
       "    </tr>\n",
       "  </thead>\n",
       "  <tbody>\n",
       "    <tr>\n",
       "      <th>0</th>\n",
       "      <td>41</td>\n",
       "      <td>Yes</td>\n",
       "      <td>Travel_Rarely</td>\n",
       "      <td>1102</td>\n",
       "      <td>Sales</td>\n",
       "      <td>1</td>\n",
       "      <td>2</td>\n",
       "      <td>Life Sciences</td>\n",
       "      <td>1</td>\n",
       "      <td>1</td>\n",
       "      <td>...</td>\n",
       "      <td>1</td>\n",
       "      <td>80</td>\n",
       "      <td>0</td>\n",
       "      <td>8</td>\n",
       "      <td>0</td>\n",
       "      <td>1</td>\n",
       "      <td>6</td>\n",
       "      <td>4</td>\n",
       "      <td>0</td>\n",
       "      <td>5</td>\n",
       "    </tr>\n",
       "    <tr>\n",
       "      <th>1</th>\n",
       "      <td>49</td>\n",
       "      <td>No</td>\n",
       "      <td>Travel_Frequently</td>\n",
       "      <td>279</td>\n",
       "      <td>Research &amp; Development</td>\n",
       "      <td>8</td>\n",
       "      <td>1</td>\n",
       "      <td>Life Sciences</td>\n",
       "      <td>1</td>\n",
       "      <td>2</td>\n",
       "      <td>...</td>\n",
       "      <td>4</td>\n",
       "      <td>80</td>\n",
       "      <td>1</td>\n",
       "      <td>10</td>\n",
       "      <td>3</td>\n",
       "      <td>3</td>\n",
       "      <td>10</td>\n",
       "      <td>7</td>\n",
       "      <td>1</td>\n",
       "      <td>7</td>\n",
       "    </tr>\n",
       "    <tr>\n",
       "      <th>2</th>\n",
       "      <td>37</td>\n",
       "      <td>Yes</td>\n",
       "      <td>Travel_Rarely</td>\n",
       "      <td>1373</td>\n",
       "      <td>Research &amp; Development</td>\n",
       "      <td>2</td>\n",
       "      <td>2</td>\n",
       "      <td>Other</td>\n",
       "      <td>1</td>\n",
       "      <td>4</td>\n",
       "      <td>...</td>\n",
       "      <td>2</td>\n",
       "      <td>80</td>\n",
       "      <td>0</td>\n",
       "      <td>7</td>\n",
       "      <td>3</td>\n",
       "      <td>3</td>\n",
       "      <td>0</td>\n",
       "      <td>0</td>\n",
       "      <td>0</td>\n",
       "      <td>0</td>\n",
       "    </tr>\n",
       "    <tr>\n",
       "      <th>3</th>\n",
       "      <td>33</td>\n",
       "      <td>No</td>\n",
       "      <td>Travel_Frequently</td>\n",
       "      <td>1392</td>\n",
       "      <td>Research &amp; Development</td>\n",
       "      <td>3</td>\n",
       "      <td>4</td>\n",
       "      <td>Life Sciences</td>\n",
       "      <td>1</td>\n",
       "      <td>5</td>\n",
       "      <td>...</td>\n",
       "      <td>3</td>\n",
       "      <td>80</td>\n",
       "      <td>0</td>\n",
       "      <td>8</td>\n",
       "      <td>3</td>\n",
       "      <td>3</td>\n",
       "      <td>8</td>\n",
       "      <td>7</td>\n",
       "      <td>3</td>\n",
       "      <td>0</td>\n",
       "    </tr>\n",
       "    <tr>\n",
       "      <th>4</th>\n",
       "      <td>27</td>\n",
       "      <td>No</td>\n",
       "      <td>Travel_Rarely</td>\n",
       "      <td>591</td>\n",
       "      <td>Research &amp; Development</td>\n",
       "      <td>2</td>\n",
       "      <td>1</td>\n",
       "      <td>Medical</td>\n",
       "      <td>1</td>\n",
       "      <td>7</td>\n",
       "      <td>...</td>\n",
       "      <td>4</td>\n",
       "      <td>80</td>\n",
       "      <td>1</td>\n",
       "      <td>6</td>\n",
       "      <td>3</td>\n",
       "      <td>3</td>\n",
       "      <td>2</td>\n",
       "      <td>2</td>\n",
       "      <td>2</td>\n",
       "      <td>2</td>\n",
       "    </tr>\n",
       "  </tbody>\n",
       "</table>\n",
       "<p>5 rows × 35 columns</p>\n",
       "</div>"
      ],
      "text/plain": [
       "   Age Attrition     BusinessTravel  DailyRate              Department  \\\n",
       "0   41       Yes      Travel_Rarely       1102                   Sales   \n",
       "1   49        No  Travel_Frequently        279  Research & Development   \n",
       "2   37       Yes      Travel_Rarely       1373  Research & Development   \n",
       "3   33        No  Travel_Frequently       1392  Research & Development   \n",
       "4   27        No      Travel_Rarely        591  Research & Development   \n",
       "\n",
       "   DistanceFromHome  Education EducationField  EmployeeCount  EmployeeNumber  \\\n",
       "0                 1          2  Life Sciences              1               1   \n",
       "1                 8          1  Life Sciences              1               2   \n",
       "2                 2          2          Other              1               4   \n",
       "3                 3          4  Life Sciences              1               5   \n",
       "4                 2          1        Medical              1               7   \n",
       "\n",
       "   ...  RelationshipSatisfaction StandardHours  StockOptionLevel  \\\n",
       "0  ...                         1            80                 0   \n",
       "1  ...                         4            80                 1   \n",
       "2  ...                         2            80                 0   \n",
       "3  ...                         3            80                 0   \n",
       "4  ...                         4            80                 1   \n",
       "\n",
       "   TotalWorkingYears  TrainingTimesLastYear WorkLifeBalance  YearsAtCompany  \\\n",
       "0                  8                      0               1               6   \n",
       "1                 10                      3               3              10   \n",
       "2                  7                      3               3               0   \n",
       "3                  8                      3               3               8   \n",
       "4                  6                      3               3               2   \n",
       "\n",
       "  YearsInCurrentRole  YearsSinceLastPromotion  YearsWithCurrManager  \n",
       "0                  4                        0                     5  \n",
       "1                  7                        1                     7  \n",
       "2                  0                        0                     0  \n",
       "3                  7                        3                     0  \n",
       "4                  2                        2                     2  \n",
       "\n",
       "[5 rows x 35 columns]"
      ]
     },
     "execution_count": 2,
     "metadata": {},
     "output_type": "execute_result"
    }
   ],
   "source": [
    "df1 = pd.read_csv(\"WA_Fn-UseC_-HR-Employee-Attrition.csv\")\n",
    "df1.head()"
   ]
  },
  {
   "cell_type": "markdown",
   "id": "12221c3c",
   "metadata": {},
   "source": [
    "## Data Cleaning"
   ]
  },
  {
   "cell_type": "markdown",
   "id": "3670c555",
   "metadata": {},
   "source": [
    "#### Er wordt een subset gemaakt van de gekozen variabelen om vervolgens te kunnen gebruiken in het verdere onderzoek. De overige variabelen worden uitgesloten."
   ]
  },
  {
   "cell_type": "code",
   "execution_count": 3,
   "id": "fffd3db4",
   "metadata": {},
   "outputs": [
    {
     "data": {
      "text/html": [
       "<div>\n",
       "<style scoped>\n",
       "    .dataframe tbody tr th:only-of-type {\n",
       "        vertical-align: middle;\n",
       "    }\n",
       "\n",
       "    .dataframe tbody tr th {\n",
       "        vertical-align: top;\n",
       "    }\n",
       "\n",
       "    .dataframe thead th {\n",
       "        text-align: right;\n",
       "    }\n",
       "</style>\n",
       "<table border=\"1\" class=\"dataframe\">\n",
       "  <thead>\n",
       "    <tr style=\"text-align: right;\">\n",
       "      <th></th>\n",
       "      <th>Attrition</th>\n",
       "      <th>Age</th>\n",
       "      <th>Gender</th>\n",
       "      <th>EnvironmentSatisfaction</th>\n",
       "      <th>JobSatisfaction</th>\n",
       "      <th>MonthlyIncome</th>\n",
       "      <th>RelationshipSatisfaction</th>\n",
       "      <th>TotalWorkingYears</th>\n",
       "      <th>YearsSinceLastPromotion</th>\n",
       "    </tr>\n",
       "  </thead>\n",
       "  <tbody>\n",
       "    <tr>\n",
       "      <th>0</th>\n",
       "      <td>Yes</td>\n",
       "      <td>41</td>\n",
       "      <td>Female</td>\n",
       "      <td>2</td>\n",
       "      <td>4</td>\n",
       "      <td>5993</td>\n",
       "      <td>1</td>\n",
       "      <td>8</td>\n",
       "      <td>0</td>\n",
       "    </tr>\n",
       "    <tr>\n",
       "      <th>1</th>\n",
       "      <td>No</td>\n",
       "      <td>49</td>\n",
       "      <td>Male</td>\n",
       "      <td>3</td>\n",
       "      <td>2</td>\n",
       "      <td>5130</td>\n",
       "      <td>4</td>\n",
       "      <td>10</td>\n",
       "      <td>1</td>\n",
       "    </tr>\n",
       "    <tr>\n",
       "      <th>2</th>\n",
       "      <td>Yes</td>\n",
       "      <td>37</td>\n",
       "      <td>Male</td>\n",
       "      <td>4</td>\n",
       "      <td>3</td>\n",
       "      <td>2090</td>\n",
       "      <td>2</td>\n",
       "      <td>7</td>\n",
       "      <td>0</td>\n",
       "    </tr>\n",
       "    <tr>\n",
       "      <th>3</th>\n",
       "      <td>No</td>\n",
       "      <td>33</td>\n",
       "      <td>Female</td>\n",
       "      <td>4</td>\n",
       "      <td>3</td>\n",
       "      <td>2909</td>\n",
       "      <td>3</td>\n",
       "      <td>8</td>\n",
       "      <td>3</td>\n",
       "    </tr>\n",
       "    <tr>\n",
       "      <th>4</th>\n",
       "      <td>No</td>\n",
       "      <td>27</td>\n",
       "      <td>Male</td>\n",
       "      <td>1</td>\n",
       "      <td>2</td>\n",
       "      <td>3468</td>\n",
       "      <td>4</td>\n",
       "      <td>6</td>\n",
       "      <td>2</td>\n",
       "    </tr>\n",
       "  </tbody>\n",
       "</table>\n",
       "</div>"
      ],
      "text/plain": [
       "  Attrition  Age  Gender  EnvironmentSatisfaction  JobSatisfaction  \\\n",
       "0       Yes   41  Female                        2                4   \n",
       "1        No   49    Male                        3                2   \n",
       "2       Yes   37    Male                        4                3   \n",
       "3        No   33  Female                        4                3   \n",
       "4        No   27    Male                        1                2   \n",
       "\n",
       "   MonthlyIncome  RelationshipSatisfaction  TotalWorkingYears  \\\n",
       "0           5993                         1                  8   \n",
       "1           5130                         4                 10   \n",
       "2           2090                         2                  7   \n",
       "3           2909                         3                  8   \n",
       "4           3468                         4                  6   \n",
       "\n",
       "   YearsSinceLastPromotion  \n",
       "0                        0  \n",
       "1                        1  \n",
       "2                        0  \n",
       "3                        3  \n",
       "4                        2  "
      ]
     },
     "execution_count": 3,
     "metadata": {},
     "output_type": "execute_result"
    }
   ],
   "source": [
    "df1 = df1[['Attrition','Age','Gender','EnvironmentSatisfaction','JobSatisfaction','MonthlyIncome','RelationshipSatisfaction','TotalWorkingYears','YearsSinceLastPromotion']]\n",
    "df1.head()"
   ]
  },
  {
   "cell_type": "markdown",
   "id": "52abdc4d",
   "metadata": {},
   "source": [
    "Er wordt gekeken naar de subset om NaN waardes en andere verschillen tussen de variabelen te ontdekken. Er blijken geen NaN waardes te zijn. Alle variabelen behalve 'gender' zijn integers. "
   ]
  },
  {
   "cell_type": "code",
   "execution_count": 4,
   "id": "b4987156",
   "metadata": {},
   "outputs": [
    {
     "name": "stdout",
     "output_type": "stream",
     "text": [
      "<class 'pandas.core.frame.DataFrame'>\n",
      "RangeIndex: 1470 entries, 0 to 1469\n",
      "Data columns (total 9 columns):\n",
      " #   Column                    Non-Null Count  Dtype \n",
      "---  ------                    --------------  ----- \n",
      " 0   Attrition                 1470 non-null   object\n",
      " 1   Age                       1470 non-null   int64 \n",
      " 2   Gender                    1470 non-null   object\n",
      " 3   EnvironmentSatisfaction   1470 non-null   int64 \n",
      " 4   JobSatisfaction           1470 non-null   int64 \n",
      " 5   MonthlyIncome             1470 non-null   int64 \n",
      " 6   RelationshipSatisfaction  1470 non-null   int64 \n",
      " 7   TotalWorkingYears         1470 non-null   int64 \n",
      " 8   YearsSinceLastPromotion   1470 non-null   int64 \n",
      "dtypes: int64(7), object(2)\n",
      "memory usage: 103.5+ KB\n"
     ]
    }
   ],
   "source": [
    "df1.info()"
   ]
  },
  {
   "cell_type": "markdown",
   "id": "a50fd9d8",
   "metadata": {},
   "source": [
    "## Exploratory data analysis\n",
    "Om relevante grafieken te kunnen laten zien, moeten de categorische variabelen eerst nummeriek worden. Daarom worden de kolommen 'gender' en 'attrition' onderstaand omgevormd van een object tot een integer. "
   ]
  },
  {
   "cell_type": "code",
   "execution_count": 5,
   "id": "dba635f2",
   "metadata": {},
   "outputs": [
    {
     "name": "stdout",
     "output_type": "stream",
     "text": [
      "<class 'pandas.core.frame.DataFrame'>\n",
      "RangeIndex: 1470 entries, 0 to 1469\n",
      "Data columns (total 9 columns):\n",
      " #   Column                    Non-Null Count  Dtype\n",
      "---  ------                    --------------  -----\n",
      " 0   Age                       1470 non-null   int64\n",
      " 1   EnvironmentSatisfaction   1470 non-null   int64\n",
      " 2   JobSatisfaction           1470 non-null   int64\n",
      " 3   MonthlyIncome             1470 non-null   int64\n",
      " 4   RelationshipSatisfaction  1470 non-null   int64\n",
      " 5   TotalWorkingYears         1470 non-null   int64\n",
      " 6   YearsSinceLastPromotion   1470 non-null   int64\n",
      " 7   Gender_Male               1470 non-null   uint8\n",
      " 8   Attrition_Yes             1470 non-null   uint8\n",
      "dtypes: int64(7), uint8(2)\n",
      "memory usage: 83.4 KB\n"
     ]
    }
   ],
   "source": [
    "df1.Attrition.value_counts(), df1.Gender.value_counts()\n",
    "df1_dummies = pd.get_dummies(df1,columns=['Gender','Attrition'],drop_first= True)\n",
    "df1_dummies.info()"
   ]
  },
  {
   "cell_type": "markdown",
   "id": "fed2eb48",
   "metadata": {},
   "source": [
    "Om te kijken hoe de dataset er nu uitziet, wordt er gebruik gemaakt van .head()"
   ]
  },
  {
   "cell_type": "code",
   "execution_count": 6,
   "id": "9b11b485",
   "metadata": {},
   "outputs": [
    {
     "data": {
      "text/html": [
       "<div>\n",
       "<style scoped>\n",
       "    .dataframe tbody tr th:only-of-type {\n",
       "        vertical-align: middle;\n",
       "    }\n",
       "\n",
       "    .dataframe tbody tr th {\n",
       "        vertical-align: top;\n",
       "    }\n",
       "\n",
       "    .dataframe thead th {\n",
       "        text-align: right;\n",
       "    }\n",
       "</style>\n",
       "<table border=\"1\" class=\"dataframe\">\n",
       "  <thead>\n",
       "    <tr style=\"text-align: right;\">\n",
       "      <th></th>\n",
       "      <th>Age</th>\n",
       "      <th>EnvironmentSatisfaction</th>\n",
       "      <th>JobSatisfaction</th>\n",
       "      <th>MonthlyIncome</th>\n",
       "      <th>RelationshipSatisfaction</th>\n",
       "      <th>TotalWorkingYears</th>\n",
       "      <th>YearsSinceLastPromotion</th>\n",
       "      <th>Gender_Male</th>\n",
       "      <th>Attrition_Yes</th>\n",
       "    </tr>\n",
       "  </thead>\n",
       "  <tbody>\n",
       "    <tr>\n",
       "      <th>0</th>\n",
       "      <td>41</td>\n",
       "      <td>2</td>\n",
       "      <td>4</td>\n",
       "      <td>5993</td>\n",
       "      <td>1</td>\n",
       "      <td>8</td>\n",
       "      <td>0</td>\n",
       "      <td>0</td>\n",
       "      <td>1</td>\n",
       "    </tr>\n",
       "    <tr>\n",
       "      <th>1</th>\n",
       "      <td>49</td>\n",
       "      <td>3</td>\n",
       "      <td>2</td>\n",
       "      <td>5130</td>\n",
       "      <td>4</td>\n",
       "      <td>10</td>\n",
       "      <td>1</td>\n",
       "      <td>1</td>\n",
       "      <td>0</td>\n",
       "    </tr>\n",
       "    <tr>\n",
       "      <th>2</th>\n",
       "      <td>37</td>\n",
       "      <td>4</td>\n",
       "      <td>3</td>\n",
       "      <td>2090</td>\n",
       "      <td>2</td>\n",
       "      <td>7</td>\n",
       "      <td>0</td>\n",
       "      <td>1</td>\n",
       "      <td>1</td>\n",
       "    </tr>\n",
       "    <tr>\n",
       "      <th>3</th>\n",
       "      <td>33</td>\n",
       "      <td>4</td>\n",
       "      <td>3</td>\n",
       "      <td>2909</td>\n",
       "      <td>3</td>\n",
       "      <td>8</td>\n",
       "      <td>3</td>\n",
       "      <td>0</td>\n",
       "      <td>0</td>\n",
       "    </tr>\n",
       "    <tr>\n",
       "      <th>4</th>\n",
       "      <td>27</td>\n",
       "      <td>1</td>\n",
       "      <td>2</td>\n",
       "      <td>3468</td>\n",
       "      <td>4</td>\n",
       "      <td>6</td>\n",
       "      <td>2</td>\n",
       "      <td>1</td>\n",
       "      <td>0</td>\n",
       "    </tr>\n",
       "    <tr>\n",
       "      <th>5</th>\n",
       "      <td>32</td>\n",
       "      <td>4</td>\n",
       "      <td>4</td>\n",
       "      <td>3068</td>\n",
       "      <td>3</td>\n",
       "      <td>8</td>\n",
       "      <td>3</td>\n",
       "      <td>1</td>\n",
       "      <td>0</td>\n",
       "    </tr>\n",
       "    <tr>\n",
       "      <th>6</th>\n",
       "      <td>59</td>\n",
       "      <td>3</td>\n",
       "      <td>1</td>\n",
       "      <td>2670</td>\n",
       "      <td>1</td>\n",
       "      <td>12</td>\n",
       "      <td>0</td>\n",
       "      <td>0</td>\n",
       "      <td>0</td>\n",
       "    </tr>\n",
       "    <tr>\n",
       "      <th>7</th>\n",
       "      <td>30</td>\n",
       "      <td>4</td>\n",
       "      <td>3</td>\n",
       "      <td>2693</td>\n",
       "      <td>2</td>\n",
       "      <td>1</td>\n",
       "      <td>0</td>\n",
       "      <td>1</td>\n",
       "      <td>0</td>\n",
       "    </tr>\n",
       "    <tr>\n",
       "      <th>8</th>\n",
       "      <td>38</td>\n",
       "      <td>4</td>\n",
       "      <td>3</td>\n",
       "      <td>9526</td>\n",
       "      <td>2</td>\n",
       "      <td>10</td>\n",
       "      <td>1</td>\n",
       "      <td>1</td>\n",
       "      <td>0</td>\n",
       "    </tr>\n",
       "    <tr>\n",
       "      <th>9</th>\n",
       "      <td>36</td>\n",
       "      <td>3</td>\n",
       "      <td>3</td>\n",
       "      <td>5237</td>\n",
       "      <td>2</td>\n",
       "      <td>17</td>\n",
       "      <td>7</td>\n",
       "      <td>1</td>\n",
       "      <td>0</td>\n",
       "    </tr>\n",
       "    <tr>\n",
       "      <th>10</th>\n",
       "      <td>35</td>\n",
       "      <td>1</td>\n",
       "      <td>2</td>\n",
       "      <td>2426</td>\n",
       "      <td>3</td>\n",
       "      <td>6</td>\n",
       "      <td>0</td>\n",
       "      <td>1</td>\n",
       "      <td>0</td>\n",
       "    </tr>\n",
       "    <tr>\n",
       "      <th>11</th>\n",
       "      <td>29</td>\n",
       "      <td>4</td>\n",
       "      <td>3</td>\n",
       "      <td>4193</td>\n",
       "      <td>4</td>\n",
       "      <td>10</td>\n",
       "      <td>0</td>\n",
       "      <td>0</td>\n",
       "      <td>0</td>\n",
       "    </tr>\n",
       "    <tr>\n",
       "      <th>12</th>\n",
       "      <td>31</td>\n",
       "      <td>1</td>\n",
       "      <td>3</td>\n",
       "      <td>2911</td>\n",
       "      <td>4</td>\n",
       "      <td>5</td>\n",
       "      <td>4</td>\n",
       "      <td>1</td>\n",
       "      <td>0</td>\n",
       "    </tr>\n",
       "    <tr>\n",
       "      <th>13</th>\n",
       "      <td>34</td>\n",
       "      <td>2</td>\n",
       "      <td>4</td>\n",
       "      <td>2661</td>\n",
       "      <td>3</td>\n",
       "      <td>3</td>\n",
       "      <td>1</td>\n",
       "      <td>1</td>\n",
       "      <td>0</td>\n",
       "    </tr>\n",
       "    <tr>\n",
       "      <th>14</th>\n",
       "      <td>28</td>\n",
       "      <td>3</td>\n",
       "      <td>3</td>\n",
       "      <td>2028</td>\n",
       "      <td>2</td>\n",
       "      <td>6</td>\n",
       "      <td>0</td>\n",
       "      <td>1</td>\n",
       "      <td>1</td>\n",
       "    </tr>\n",
       "  </tbody>\n",
       "</table>\n",
       "</div>"
      ],
      "text/plain": [
       "    Age  EnvironmentSatisfaction  JobSatisfaction  MonthlyIncome  \\\n",
       "0    41                        2                4           5993   \n",
       "1    49                        3                2           5130   \n",
       "2    37                        4                3           2090   \n",
       "3    33                        4                3           2909   \n",
       "4    27                        1                2           3468   \n",
       "5    32                        4                4           3068   \n",
       "6    59                        3                1           2670   \n",
       "7    30                        4                3           2693   \n",
       "8    38                        4                3           9526   \n",
       "9    36                        3                3           5237   \n",
       "10   35                        1                2           2426   \n",
       "11   29                        4                3           4193   \n",
       "12   31                        1                3           2911   \n",
       "13   34                        2                4           2661   \n",
       "14   28                        3                3           2028   \n",
       "\n",
       "    RelationshipSatisfaction  TotalWorkingYears  YearsSinceLastPromotion  \\\n",
       "0                          1                  8                        0   \n",
       "1                          4                 10                        1   \n",
       "2                          2                  7                        0   \n",
       "3                          3                  8                        3   \n",
       "4                          4                  6                        2   \n",
       "5                          3                  8                        3   \n",
       "6                          1                 12                        0   \n",
       "7                          2                  1                        0   \n",
       "8                          2                 10                        1   \n",
       "9                          2                 17                        7   \n",
       "10                         3                  6                        0   \n",
       "11                         4                 10                        0   \n",
       "12                         4                  5                        4   \n",
       "13                         3                  3                        1   \n",
       "14                         2                  6                        0   \n",
       "\n",
       "    Gender_Male  Attrition_Yes  \n",
       "0             0              1  \n",
       "1             1              0  \n",
       "2             1              1  \n",
       "3             0              0  \n",
       "4             1              0  \n",
       "5             1              0  \n",
       "6             0              0  \n",
       "7             1              0  \n",
       "8             1              0  \n",
       "9             1              0  \n",
       "10            1              0  \n",
       "11            0              0  \n",
       "12            1              0  \n",
       "13            1              0  \n",
       "14            1              1  "
      ]
     },
     "execution_count": 6,
     "metadata": {},
     "output_type": "execute_result"
    }
   ],
   "source": [
    "df1_dummies.head(15)"
   ]
  },
  {
   "cell_type": "code",
   "execution_count": 7,
   "id": "3df56604",
   "metadata": {},
   "outputs": [
    {
     "name": "stderr",
     "output_type": "stream",
     "text": [
      "/Users/ReinoutBuwalda/opt/anaconda3/lib/python3.8/site-packages/seaborn/_decorators.py:36: FutureWarning: Pass the following variable as a keyword arg: x. From version 0.12, the only valid positional argument will be `data`, and passing other arguments without an explicit keyword will result in an error or misinterpretation.\n",
      "  warnings.warn(\n"
     ]
    },
    {
     "data": {
      "image/png": "[encoded data removed]",
      "text/plain": [
       "<Figure size 432x288 with 1 Axes>"
      ]
     },
     "metadata": {
      "needs_background": "light"
     },
     "output_type": "display_data"
    }
   ],
   "source": [
    "sns.countplot(df1_dummies['Attrition_Yes'])\n",
    "\n",
    "# Add labels\n",
    "plt.title('Attrition Ja/Nee')\n",
    "plt.xlabel('Attrition')\n",
    "plt.ylabel('Werknemers')\n",
    "plt.show()"
   ]
  },
  {
   "cell_type": "markdown",
   "id": "d5d10412",
   "metadata": {},
   "source": [
    "Er is gekozen om meer inzicht te bieden aan de hand van een tabel aangezien grafieken u niet tot meer inzicht zouden brengen. "
   ]
  },
  {
   "cell_type": "code",
   "execution_count": 8,
   "id": "696e4516",
   "metadata": {},
   "outputs": [
    {
     "data": {
      "text/html": [
       "<div>\n",
       "<style scoped>\n",
       "    .dataframe tbody tr th:only-of-type {\n",
       "        vertical-align: middle;\n",
       "    }\n",
       "\n",
       "    .dataframe tbody tr th {\n",
       "        vertical-align: top;\n",
       "    }\n",
       "\n",
       "    .dataframe thead th {\n",
       "        text-align: right;\n",
       "    }\n",
       "</style>\n",
       "<table border=\"1\" class=\"dataframe\">\n",
       "  <thead>\n",
       "    <tr style=\"text-align: right;\">\n",
       "      <th></th>\n",
       "      <th>Age</th>\n",
       "      <th>EnvironmentSatisfaction</th>\n",
       "      <th>JobSatisfaction</th>\n",
       "      <th>MonthlyIncome</th>\n",
       "      <th>RelationshipSatisfaction</th>\n",
       "      <th>TotalWorkingYears</th>\n",
       "      <th>YearsSinceLastPromotion</th>\n",
       "      <th>Gender_Male</th>\n",
       "      <th>Attrition_Yes</th>\n",
       "    </tr>\n",
       "  </thead>\n",
       "  <tbody>\n",
       "    <tr>\n",
       "      <th>Age</th>\n",
       "      <td>1.000000</td>\n",
       "      <td>0.010146</td>\n",
       "      <td>-0.004892</td>\n",
       "      <td>0.497855</td>\n",
       "      <td>0.053535</td>\n",
       "      <td>0.680381</td>\n",
       "      <td>0.216513</td>\n",
       "      <td>-0.036311</td>\n",
       "      <td>-0.159205</td>\n",
       "    </tr>\n",
       "    <tr>\n",
       "      <th>EnvironmentSatisfaction</th>\n",
       "      <td>0.010146</td>\n",
       "      <td>1.000000</td>\n",
       "      <td>-0.006784</td>\n",
       "      <td>-0.006259</td>\n",
       "      <td>0.007665</td>\n",
       "      <td>-0.002693</td>\n",
       "      <td>0.016194</td>\n",
       "      <td>0.000508</td>\n",
       "      <td>-0.103369</td>\n",
       "    </tr>\n",
       "    <tr>\n",
       "      <th>JobSatisfaction</th>\n",
       "      <td>-0.004892</td>\n",
       "      <td>-0.006784</td>\n",
       "      <td>1.000000</td>\n",
       "      <td>-0.007157</td>\n",
       "      <td>-0.012454</td>\n",
       "      <td>-0.020185</td>\n",
       "      <td>-0.018214</td>\n",
       "      <td>0.033252</td>\n",
       "      <td>-0.103481</td>\n",
       "    </tr>\n",
       "    <tr>\n",
       "      <th>MonthlyIncome</th>\n",
       "      <td>0.497855</td>\n",
       "      <td>-0.006259</td>\n",
       "      <td>-0.007157</td>\n",
       "      <td>1.000000</td>\n",
       "      <td>0.025873</td>\n",
       "      <td>0.772893</td>\n",
       "      <td>0.344978</td>\n",
       "      <td>-0.031858</td>\n",
       "      <td>-0.159840</td>\n",
       "    </tr>\n",
       "    <tr>\n",
       "      <th>RelationshipSatisfaction</th>\n",
       "      <td>0.053535</td>\n",
       "      <td>0.007665</td>\n",
       "      <td>-0.012454</td>\n",
       "      <td>0.025873</td>\n",
       "      <td>1.000000</td>\n",
       "      <td>0.024054</td>\n",
       "      <td>0.033493</td>\n",
       "      <td>0.022868</td>\n",
       "      <td>-0.045872</td>\n",
       "    </tr>\n",
       "    <tr>\n",
       "      <th>TotalWorkingYears</th>\n",
       "      <td>0.680381</td>\n",
       "      <td>-0.002693</td>\n",
       "      <td>-0.020185</td>\n",
       "      <td>0.772893</td>\n",
       "      <td>0.024054</td>\n",
       "      <td>1.000000</td>\n",
       "      <td>0.404858</td>\n",
       "      <td>-0.046881</td>\n",
       "      <td>-0.171063</td>\n",
       "    </tr>\n",
       "    <tr>\n",
       "      <th>YearsSinceLastPromotion</th>\n",
       "      <td>0.216513</td>\n",
       "      <td>0.016194</td>\n",
       "      <td>-0.018214</td>\n",
       "      <td>0.344978</td>\n",
       "      <td>0.033493</td>\n",
       "      <td>0.404858</td>\n",
       "      <td>1.000000</td>\n",
       "      <td>-0.026985</td>\n",
       "      <td>-0.033019</td>\n",
       "    </tr>\n",
       "    <tr>\n",
       "      <th>Gender_Male</th>\n",
       "      <td>-0.036311</td>\n",
       "      <td>0.000508</td>\n",
       "      <td>0.033252</td>\n",
       "      <td>-0.031858</td>\n",
       "      <td>0.022868</td>\n",
       "      <td>-0.046881</td>\n",
       "      <td>-0.026985</td>\n",
       "      <td>1.000000</td>\n",
       "      <td>0.029453</td>\n",
       "    </tr>\n",
       "    <tr>\n",
       "      <th>Attrition_Yes</th>\n",
       "      <td>-0.159205</td>\n",
       "      <td>-0.103369</td>\n",
       "      <td>-0.103481</td>\n",
       "      <td>-0.159840</td>\n",
       "      <td>-0.045872</td>\n",
       "      <td>-0.171063</td>\n",
       "      <td>-0.033019</td>\n",
       "      <td>0.029453</td>\n",
       "      <td>1.000000</td>\n",
       "    </tr>\n",
       "  </tbody>\n",
       "</table>\n",
       "</div>"
      ],
      "text/plain": [
       "                               Age  EnvironmentSatisfaction  JobSatisfaction  \\\n",
       "Age                       1.000000                 0.010146        -0.004892   \n",
       "EnvironmentSatisfaction   0.010146                 1.000000        -0.006784   \n",
       "JobSatisfaction          -0.004892                -0.006784         1.000000   \n",
       "MonthlyIncome             0.497855                -0.006259        -0.007157   \n",
       "RelationshipSatisfaction  0.053535                 0.007665        -0.012454   \n",
       "TotalWorkingYears         0.680381                -0.002693        -0.020185   \n",
       "YearsSinceLastPromotion   0.216513                 0.016194        -0.018214   \n",
       "Gender_Male              -0.036311                 0.000508         0.033252   \n",
       "Attrition_Yes            -0.159205                -0.103369        -0.103481   \n",
       "\n",
       "                          MonthlyIncome  RelationshipSatisfaction  \\\n",
       "Age                            0.497855                  0.053535   \n",
       "EnvironmentSatisfaction       -0.006259                  0.007665   \n",
       "JobSatisfaction               -0.007157                 -0.012454   \n",
       "MonthlyIncome                  1.000000                  0.025873   \n",
       "RelationshipSatisfaction       0.025873                  1.000000   \n",
       "TotalWorkingYears              0.772893                  0.024054   \n",
       "YearsSinceLastPromotion        0.344978                  0.033493   \n",
       "Gender_Male                   -0.031858                  0.022868   \n",
       "Attrition_Yes                 -0.159840                 -0.045872   \n",
       "\n",
       "                          TotalWorkingYears  YearsSinceLastPromotion  \\\n",
       "Age                                0.680381                 0.216513   \n",
       "EnvironmentSatisfaction           -0.002693                 0.016194   \n",
       "JobSatisfaction                   -0.020185                -0.018214   \n",
       "MonthlyIncome                      0.772893                 0.344978   \n",
       "RelationshipSatisfaction           0.024054                 0.033493   \n",
       "TotalWorkingYears                  1.000000                 0.404858   \n",
       "YearsSinceLastPromotion            0.404858                 1.000000   \n",
       "Gender_Male                       -0.046881                -0.026985   \n",
       "Attrition_Yes                     -0.171063                -0.033019   \n",
       "\n",
       "                          Gender_Male  Attrition_Yes  \n",
       "Age                         -0.036311      -0.159205  \n",
       "EnvironmentSatisfaction      0.000508      -0.103369  \n",
       "JobSatisfaction              0.033252      -0.103481  \n",
       "MonthlyIncome               -0.031858      -0.159840  \n",
       "RelationshipSatisfaction     0.022868      -0.045872  \n",
       "TotalWorkingYears           -0.046881      -0.171063  \n",
       "YearsSinceLastPromotion     -0.026985      -0.033019  \n",
       "Gender_Male                  1.000000       0.029453  \n",
       "Attrition_Yes                0.029453       1.000000  "
      ]
     },
     "execution_count": 8,
     "metadata": {},
     "output_type": "execute_result"
    }
   ],
   "source": [
    "df1_dummies.corr()"
   ]
  },
  {
   "cell_type": "markdown",
   "id": "6c26ab5f",
   "metadata": {},
   "source": [
    "Op basis van bovenstaande tabel valt te concluderen dat de gekozen variabelen niet veel invloed hebben op 'attrition'. Er valt wel te constateren dat leeftijd, inkomen, werkjaren en promotie met elkaar correleren, maar 'attrition' valt hier niet onder. 'Attrition' correleert het meeste met 'Gender_Male'. "
   ]
  },
  {
   "cell_type": "markdown",
   "id": "827f27c5",
   "metadata": {},
   "source": [
    "## Predictive model"
   ]
  },
  {
   "cell_type": "markdown",
   "id": "70d3663e",
   "metadata": {},
   "source": [
    "Voor deze dataset wordt er gebruik gemaakt van kNN. Dit algoritmne geeft de mogelijkheid om datasets in groepen te verdelen op basis van de dichtstbij gelegen datapunten. Over het algemeen is een kNN niet het meest nauwkeurig, maar wel erg snel op met name kleine datasets. Doordat je goed kan visualiseren wat het model doet is het ook goed te begrijpen en daardoor makkelijk uit te leggen aan anderen. "
   ]
  },
  {
   "cell_type": "markdown",
   "id": "4784e3e0",
   "metadata": {},
   "source": [
    "**Split the dataset into a training and test set**"
   ]
  },
  {
   "cell_type": "code",
   "execution_count": 9,
   "id": "00d1c391",
   "metadata": {},
   "outputs": [
    {
     "data": {
      "text/html": [
       "<div>\n",
       "<style scoped>\n",
       "    .dataframe tbody tr th:only-of-type {\n",
       "        vertical-align: middle;\n",
       "    }\n",
       "\n",
       "    .dataframe tbody tr th {\n",
       "        vertical-align: top;\n",
       "    }\n",
       "\n",
       "    .dataframe thead th {\n",
       "        text-align: right;\n",
       "    }\n",
       "</style>\n",
       "<table border=\"1\" class=\"dataframe\">\n",
       "  <thead>\n",
       "    <tr style=\"text-align: right;\">\n",
       "      <th></th>\n",
       "      <th>0</th>\n",
       "      <th>1</th>\n",
       "      <th>2</th>\n",
       "      <th>3</th>\n",
       "      <th>4</th>\n",
       "      <th>5</th>\n",
       "      <th>6</th>\n",
       "      <th>7</th>\n",
       "    </tr>\n",
       "  </thead>\n",
       "  <tbody>\n",
       "    <tr>\n",
       "      <th>0</th>\n",
       "      <td>0.021542</td>\n",
       "      <td>0.000979</td>\n",
       "      <td>0.000979</td>\n",
       "      <td>0.999731</td>\n",
       "      <td>0.001469</td>\n",
       "      <td>0.008323</td>\n",
       "      <td>0.000490</td>\n",
       "      <td>0.000490</td>\n",
       "    </tr>\n",
       "    <tr>\n",
       "      <th>1</th>\n",
       "      <td>0.003875</td>\n",
       "      <td>0.000097</td>\n",
       "      <td>0.000388</td>\n",
       "      <td>0.999991</td>\n",
       "      <td>0.000388</td>\n",
       "      <td>0.001356</td>\n",
       "      <td>0.001066</td>\n",
       "      <td>0.000097</td>\n",
       "    </tr>\n",
       "    <tr>\n",
       "      <th>2</th>\n",
       "      <td>0.002570</td>\n",
       "      <td>0.000202</td>\n",
       "      <td>0.000101</td>\n",
       "      <td>0.999995</td>\n",
       "      <td>0.000050</td>\n",
       "      <td>0.001562</td>\n",
       "      <td>0.000554</td>\n",
       "      <td>0.000050</td>\n",
       "    </tr>\n",
       "    <tr>\n",
       "      <th>3</th>\n",
       "      <td>0.009994</td>\n",
       "      <td>0.001025</td>\n",
       "      <td>0.001025</td>\n",
       "      <td>0.999947</td>\n",
       "      <td>0.000513</td>\n",
       "      <td>0.001794</td>\n",
       "      <td>0.000513</td>\n",
       "      <td>0.000256</td>\n",
       "    </tr>\n",
       "    <tr>\n",
       "      <th>4</th>\n",
       "      <td>0.008230</td>\n",
       "      <td>0.000914</td>\n",
       "      <td>0.000686</td>\n",
       "      <td>0.999965</td>\n",
       "      <td>0.000686</td>\n",
       "      <td>0.000914</td>\n",
       "      <td>0.000229</td>\n",
       "      <td>0.000000</td>\n",
       "    </tr>\n",
       "  </tbody>\n",
       "</table>\n",
       "</div>"
      ],
      "text/plain": [
       "          0         1         2         3         4         5         6  \\\n",
       "0  0.021542  0.000979  0.000979  0.999731  0.001469  0.008323  0.000490   \n",
       "1  0.003875  0.000097  0.000388  0.999991  0.000388  0.001356  0.001066   \n",
       "2  0.002570  0.000202  0.000101  0.999995  0.000050  0.001562  0.000554   \n",
       "3  0.009994  0.001025  0.001025  0.999947  0.000513  0.001794  0.000513   \n",
       "4  0.008230  0.000914  0.000686  0.999965  0.000686  0.000914  0.000229   \n",
       "\n",
       "          7  \n",
       "0  0.000490  \n",
       "1  0.000097  \n",
       "2  0.000050  \n",
       "3  0.000256  \n",
       "4  0.000000  "
      ]
     },
     "execution_count": 9,
     "metadata": {},
     "output_type": "execute_result"
    }
   ],
   "source": [
    "from sklearn.preprocessing import normalize\n",
    "\n",
    "X = df1_dummies.loc[:, ~df1_dummies.columns.isin(['Attrition_Yes'])] #create the X matrix\n",
    "y = df1_dummies['Attrition_Yes'] #create the y-variable\n",
    "\n",
    "X = normalize(X)\n",
    "\n",
    "X_train, X_test, y_train, y_test = train_test_split(X, y, test_size=0.3, random_state=1)\n",
    "pd.DataFrame(X_train).head()"
   ]
  },
  {
   "cell_type": "markdown",
   "id": "41958a5f",
   "metadata": {},
   "source": [
    "**Train the model**"
   ]
  },
  {
   "cell_type": "code",
   "execution_count": 10,
   "id": "5c9f9183",
   "metadata": {},
   "outputs": [],
   "source": [
    "from sklearn.neighbors import KNeighborsClassifier #the object class we need\n",
    "\n",
    "knn = KNeighborsClassifier(5) #create a KNN-classifier with 5 neighbors (default)\n",
    "knn = knn.fit(X_train, y_train) #this fits the k-nearest neigbor model with the train data"
   ]
  },
  {
   "cell_type": "markdown",
   "id": "e77abb94",
   "metadata": {},
   "source": [
    "**Model beoordelen**"
   ]
  },
  {
   "cell_type": "code",
   "execution_count": 11,
   "id": "93e4600a",
   "metadata": {},
   "outputs": [
    {
     "data": {
      "text/plain": [
       "0.8208616780045351"
      ]
     },
     "execution_count": 11,
     "metadata": {},
     "output_type": "execute_result"
    }
   ],
   "source": [
    "knn.score(X_test, y_test) #calculate the fit on the *test* data"
   ]
  },
  {
   "cell_type": "markdown",
   "id": "50d0e5ef",
   "metadata": {},
   "source": [
    "Het model heeft dus een accuraatheid van 82,1%"
   ]
  },
  {
   "cell_type": "markdown",
   "id": "f69332b5",
   "metadata": {},
   "source": [
    "## Model evaluation: precision and recall"
   ]
  },
  {
   "cell_type": "code",
   "execution_count": 12,
   "id": "11171110",
   "metadata": {},
   "outputs": [
    {
     "data": {
      "text/plain": [
       "array([[360,   4],\n",
       "       [ 75,   2]])"
      ]
     },
     "execution_count": 12,
     "metadata": {},
     "output_type": "execute_result"
    }
   ],
   "source": [
    "from sklearn.metrics import confusion_matrix\n",
    "y_test_pred = knn.predict(X_test) #the predicted values\n",
    "cm = confusion_matrix(y_test, y_test_pred) #creates a \"confusion matrix\"\n",
    "cm"
   ]
  },
  {
   "cell_type": "code",
   "execution_count": 13,
   "id": "5f681d09",
   "metadata": {},
   "outputs": [
    {
     "data": {
      "text/html": [
       "<div>\n",
       "<style scoped>\n",
       "    .dataframe tbody tr th:only-of-type {\n",
       "        vertical-align: middle;\n",
       "    }\n",
       "\n",
       "    .dataframe tbody tr th {\n",
       "        vertical-align: top;\n",
       "    }\n",
       "\n",
       "    .dataframe thead th {\n",
       "        text-align: right;\n",
       "    }\n",
       "</style>\n",
       "<table border=\"1\" class=\"dataframe\">\n",
       "  <thead>\n",
       "    <tr style=\"text-align: right;\">\n",
       "      <th></th>\n",
       "      <th>Attrition (predicted)</th>\n",
       "      <th>No Attrition (predicted)</th>\n",
       "    </tr>\n",
       "  </thead>\n",
       "  <tbody>\n",
       "    <tr>\n",
       "      <th>Attrition (actual)</th>\n",
       "      <td>360</td>\n",
       "      <td>4</td>\n",
       "    </tr>\n",
       "    <tr>\n",
       "      <th>No Attrition (actual)</th>\n",
       "      <td>75</td>\n",
       "      <td>2</td>\n",
       "    </tr>\n",
       "  </tbody>\n",
       "</table>\n",
       "</div>"
      ],
      "text/plain": [
       "                       Attrition (predicted)  No Attrition (predicted)\n",
       "Attrition (actual)                       360                         4\n",
       "No Attrition (actual)                     75                         2"
      ]
     },
     "execution_count": 13,
     "metadata": {},
     "output_type": "execute_result"
    }
   ],
   "source": [
    "conf_matrix = pd.DataFrame(cm, index=['Attrition (actual)', 'No Attrition (actual)'], columns = ['Attrition (predicted)', 'No Attrition (predicted)']) \n",
    "conf_matrix"
   ]
  },
  {
   "cell_type": "markdown",
   "id": "931278c3",
   "metadata": {},
   "source": [
    "**Accuracy**"
   ]
  },
  {
   "cell_type": "code",
   "execution_count": 14,
   "id": "0f5591de",
   "metadata": {},
   "outputs": [
    {
     "data": {
      "text/plain": [
       "0.8208616780045351"
      ]
     },
     "execution_count": 14,
     "metadata": {},
     "output_type": "execute_result"
    }
   ],
   "source": [
    "(360+2)/(360+75+4+2)"
   ]
  },
  {
   "cell_type": "markdown",
   "id": "0a00997b",
   "metadata": {},
   "source": [
    "De accuracy komt overeen met de beoordeling van het model met behulp van knn.score"
   ]
  },
  {
   "cell_type": "markdown",
   "id": "abd3a9e7",
   "metadata": {},
   "source": [
    "**Precision**"
   ]
  },
  {
   "cell_type": "code",
   "execution_count": 15,
   "id": "084d68d1",
   "metadata": {},
   "outputs": [
    {
     "data": {
      "text/plain": [
       "0.8275862068965517"
      ]
     },
     "execution_count": 15,
     "metadata": {},
     "output_type": "execute_result"
    }
   ],
   "source": [
    "(360)/(360+75)"
   ]
  },
  {
   "cell_type": "markdown",
   "id": "832b33c6",
   "metadata": {},
   "source": [
    "Het model heeft dus in totaal maar 360 werknemers correct geïdentificeerd als 'attirtion' van de totaal 435 werknemers die zijn geïdentificeerd als 'attrition'. Het model toont dus een goede precisie. "
   ]
  },
  {
   "cell_type": "markdown",
   "id": "f4f779c6",
   "metadata": {},
   "source": [
    "**Recall**\n",
    "Bij de recall worden de correct voorspelde mensen met 'attrition'(True Positive) vergeleken met alle daadwerkelijke werknemers met 'attrition', dus (True Positive + False Negative). "
   ]
  },
  {
   "cell_type": "code",
   "execution_count": 16,
   "id": "4f7e51ce",
   "metadata": {},
   "outputs": [
    {
     "data": {
      "text/plain": [
       "0.989010989010989"
      ]
     },
     "execution_count": 16,
     "metadata": {},
     "output_type": "execute_result"
    }
   ],
   "source": [
    "(360)/(360+4)"
   ]
  },
  {
   "cell_type": "markdown",
   "id": "17db352e",
   "metadata": {},
   "source": [
    "Hoe hoger de recall ligt, hoe minder verkeerde voorspellingen er zijn gedaan bij voor de dependent variable. In totaal zijn er namelij 360 juiste voorspellingen gedaan van de 364 mensen die daadwerkelijk onder 'attrition' vallen. "
   ]
  },
  {
   "cell_type": "markdown",
   "id": "73fd796f",
   "metadata": {},
   "source": [
    "## Conclusie"
   ]
  },
  {
   "cell_type": "markdown",
   "id": "ae593f40",
   "metadata": {},
   "source": [
    "Al met al is het interessant om te zien dat je accuracy dus niet alles zegt over het model. Daarom bestaan de functies precision en recall. In dit model is de precision vooral belangrijk omdat dit laat zien hoe veel juiste voorspellingen er gedaan zijn op het gebied van 'attrition'. Het kan voor een bedrijf hoogstwaarschijnlijk verkeerd uitpakken als je iemand onterecht classificeert als 'attrition'. \n",
    "\n",
    "Toch is de recall ook belangrijk in dit model omdat het laat zien hoe veel van de werknemers die vallen onder 'attrtition' ook zo voorspeld zijn. Indien de recall en precision in een model allebei belangrijk zijn, wordt er gebruikg gemaakt van de F1-score. "
   ]
  },
  {
   "cell_type": "code",
   "execution_count": 17,
   "id": "ae1e6e1d",
   "metadata": {},
   "outputs": [
    {
     "name": "stdout",
     "output_type": "stream",
     "text": [
      "              precision    recall  f1-score   support\n",
      "\n",
      "           0       0.83      0.99      0.90       364\n",
      "           1       0.33      0.03      0.05        77\n",
      "\n",
      "    accuracy                           0.82       441\n",
      "   macro avg       0.58      0.51      0.47       441\n",
      "weighted avg       0.74      0.82      0.75       441\n",
      "\n"
     ]
    }
   ],
   "source": [
    "from sklearn.metrics import classification_report\n",
    "print(classification_report(y_test, y_test_pred))"
   ]
  },
  {
   "cell_type": "markdown",
   "id": "9d9a7ff8",
   "metadata": {},
   "source": [
    "In het bovenstaande model is er echter niet gezocht naar de max test score en de K-waarde die daar mee gepaard gaat. Wel is de te zien dat de recall toeneemt als je de K-waarde verhoogt. Omdat er dan minder 'negatives' voorkomen daalt de noemer. "
   ]
  }
 ],
 "metadata": {
  "kernelspec": {
   "display_name": "Python 3",
   "language": "python",
   "name": "python3"
  },
  "language_info": {
   "codemirror_mode": {
    "name": "ipython",
    "version": 3
   },
   "file_extension": ".py",
   "mimetype": "text/x-python",
   "name": "python",
   "nbconvert_exporter": "python",
   "pygments_lexer": "ipython3",
   "version": "3.8.8"
  }
 },
 "nbformat": 4,
 "nbformat_minor": 5
}
